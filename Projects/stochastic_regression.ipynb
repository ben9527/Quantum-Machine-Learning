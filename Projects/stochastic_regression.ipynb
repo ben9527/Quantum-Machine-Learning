{
 "cells": [
  {
   "cell_type": "code",
   "execution_count": 3,
   "metadata": {
    "collapsed": true
   },
   "outputs": [],
   "source": [
    "import numpy as np"
   ]
  },
  {
   "cell_type": "code",
   "execution_count": 28,
   "metadata": {
    "collapsed": true
   },
   "outputs": [],
   "source": [
    "# maximum probability of failure\n",
    "eta = 0.1\n",
    "# multiplicative accuracy factor\n",
    "eps = 0.1 \n",
    "\n",
    "m = 10000\n",
    "n = 10000\n",
    "k = 10\n",
    "cond_n = 0.9 # minimum condition number\n",
    "\n",
    "# unif dist over [0, 0.01) \n",
    "K_1 = np.random.rand(m, k)\n",
    "u_1, d_1, v_1 = np.linalg.svd(K_1)\n",
    "K_2 = np.random.rand(k, n)\n",
    "u_2, d_2, v_2 = np.linalg.svd(K_2)\n",
    "\n"
   ]
  },
  {
   "cell_type": "code",
   "execution_count": 29,
   "metadata": {},
   "outputs": [
    {
     "name": "stdout",
     "output_type": "stream",
     "text": [
      "Singular values of A: [0.99145382 0.97437031 0.97041397 0.96955747 0.94550022 0.93790374\n",
      " 0.9352957  0.91867713 0.90916624 0.90357512]\n"
     ]
    }
   ],
   "source": [
    "# Resample singular values so that condition number is well-behaved\n",
    "d_prime = (np.random.rand(k) * (1 - cond_n)) + cond_n \n",
    "kappa = 1 / min(d_prime)\n",
    "d_prime = -np.sort(-d_prime)\n",
    "# Can verify that operator norm is lt 1\n",
    "print(\"Singular values of A:\", d_prime) \n",
    "\n",
    "# Reconstruct A using updated singular values\n",
    "d_prime = np.pad(d_prime, (0, min(m, n) - k), mode='constant')\n",
    "A = u_1 @ np.diag(d_prime) @ v_2"
   ]
  },
  {
   "cell_type": "code",
   "execution_count": 30,
   "metadata": {},
   "outputs": [
    {
     "name": "stdout",
     "output_type": "stream",
     "text": [
      "Frobenius Norm of A: 2.991577206233858\n",
      "Sum of row probabilities:  1.0000000000000004\n"
     ]
    }
   ],
   "source": [
    "A_F = np.linalg.norm(A, ord='fro')\n",
    "print(\"Frobenius Norm of A:\", A_F)\n",
    "\n",
    "A_row_norms = np.square(np.linalg.norm(A, axis=1))\n",
    "A_row_probs = A_row_norms / np.square(A_F)\n",
    "print(\"Sum of row probabilities: \", sum(A_row_probs))"
   ]
  },
  {
   "cell_type": "code",
   "execution_count": 31,
   "metadata": {},
   "outputs": [],
   "source": [
    "A_element_probs = {}\n",
    "\n",
    "for i in range(m):\n",
    "    A_i = A[i, :]\n",
    "    A_element_norms = np.square(A_i)\n",
    "    A_element_probs[i] = A_element_norms / A_row_norms[i]"
   ]
  },
  {
   "cell_type": "code",
   "execution_count": null,
   "metadata": {
    "collapsed": true
   },
   "outputs": [],
   "source": [
    "# True solution\n",
    "A_pinv = np.linalg.pinv(A) \n",
    "print(\"Operator norm of pinv of A:\", kappa)"
   ]
  },
  {
   "cell_type": "code",
   "execution_count": 32,
   "metadata": {},
   "outputs": [
    {
     "name": "stdout",
     "output_type": "stream",
     "text": [
      "(r, c): (100, 100)\n"
     ]
    }
   ],
   "source": [
    "#r = (np.power(2, 10) * np.log(8 * n / eta)  * np.power(kappa, 4) * np.square(k) * np.square(A_F)) / np.square(eps)\n",
    "#c = (np.power(2, 6) * np.power(3, 4) * np.log(8 * r / eta)  * np.power(kappa, 8) * np.square(k) * np.square(A_F)) / np.square(eps)\n",
    "#print(np.log(8 * n / eta)  , (np.power(kappa, 4) , np.square(k) , np.square(A_F)) , np.square(eps))\n",
    "r = c = 100\n",
    "print(\"(r, c):\", (r, c))"
   ]
  },
  {
   "cell_type": "code",
   "execution_count": 62,
   "metadata": {},
   "outputs": [
    {
     "name": "stdout",
     "output_type": "stream",
     "text": [
      "[[-1.40069953e-02  8.00295960e-02 -2.92482951e-02 ... -7.71147001e-03\n",
      "  -9.59572761e-02 -5.19815579e-02]\n",
      " [-1.42559179e-04  6.87565422e-02 -1.18752927e-02 ...  1.56955300e-01\n",
      "   3.98284873e-03  9.92910536e-02]\n",
      " [ 1.24680333e-01  1.52892518e-01 -1.31201329e-01 ...  2.69316135e-01\n",
      "   1.61466902e-01  1.47610081e-01]\n",
      " ...\n",
      " [ 1.15005075e-01  3.05253840e-02  1.03657664e-02 ...  4.05358114e-02\n",
      "   4.33632622e-02  2.10684090e-01]\n",
      " [-8.50989515e-02 -5.27376446e-02  1.47547265e-01 ... -3.66623169e-03\n",
      "   1.04850574e-01 -6.36483268e-02]\n",
      " [ 4.37958029e-02  6.51865986e-02 -3.21583025e-02 ...  2.18606015e-01\n",
      "   4.69999409e-02  1.19039694e-01]]\n",
      "[[ 0.00494572 -0.02962816  0.02570187 ... -0.03873693  0.02788302\n",
      "   0.02767259]\n",
      " [ 0.00016456  0.0598352  -0.02131663 ...  0.00988762  0.01597253\n",
      "  -0.00204717]\n",
      " [-0.02698298  0.06413278  0.03030522 ... -0.00134199  0.00895945\n",
      "  -0.04162053]\n",
      " ...\n",
      " [ 0.03667613  0.05191144 -0.00375327 ...  0.0649872  -0.01651234\n",
      "  -0.03267384]\n",
      " [ 0.0208228  -0.02970337  0.03046756 ...  0.04378858 -0.01181883\n",
      "   0.06666346]\n",
      " [-0.01327528  0.02507408 -0.00975985 ... -0.0201567  -0.02235284\n",
      "  -0.02401765]]\n"
     ]
    }
   ],
   "source": [
    "# sample rows\n",
    "\n",
    "# R is implicitly defined by indices of A\n",
    "# TODO: - make implicit\n",
    "R_inds = []\n",
    "R = []\n",
    "\n",
    "for ind in range(r):\n",
    "    R_ind = np.random.choice(m, p=A_row_probs)\n",
    "    R_j = (A_F / np.sqrt(r )) * (A[R_ind, :] / A_row_norms[R_ind])\n",
    "    R_inds.append(R_ind)\n",
    "    R.append(R_j)\n",
    "\n",
    "R = np.array(R)\n",
    "\n",
    "# C is explicity defined since it is r x c\n",
    "C = []\n",
    "\n",
    "for ind in range(c):\n",
    "    rand_row = np.random.randint(0, r - 1) # uniform\n",
    "    C_ind = np.random.choice(m, p=A_element_probs[R_inds[rand_row]])\n",
    "    C_j = (A_F / np.sqrt(c)) * (\n",
    "        R[:, C_ind] / np.linalg.norm(\n",
    "            R[:, C_ind]\n",
    "            )\n",
    "        )\n",
    "    \n",
    "    C.append(C_j) # build column-wise, transpose at end\n",
    "\n",
    "C = np.array(C)\n",
    "C = C.T\n",
    "\n",
    "print(R)\n",
    "print(C)"
   ]
  },
  {
   "cell_type": "code",
   "execution_count": 65,
   "metadata": {},
   "outputs": [],
   "source": [
    "u_C, d_C, v_C = np.linalg.svd(C)\n",
    "# u_R, d_R, v_R = np.linalg.svd(R)"
   ]
  },
  {
   "cell_type": "markdown",
   "metadata": {},
   "source": [
    "$$\n",
    "|\\tilde{v}^{(i)}\\rangle := R^* |w^{(l)}\\rangle / \\tilde{\\sigma}_l\n",
    "$$"
   ]
  },
  {
   "cell_type": "code",
   "execution_count": 64,
   "metadata": {},
   "outputs": [
    {
     "name": "stdout",
     "output_type": "stream",
     "text": [
      "899 17\n"
     ]
    }
   ],
   "source": [
    "mean_range = int(9 / (eps ** 2))\n",
    "median_range = int ( 6 * np.log(2 / eta))\n",
    "lambdas = []\n",
    "\n",
    "for l in range(k):\n",
    "    for i in range(median_range):\n",
    "        mean_estimators = []\n",
    "        for j in range(means_range):\n",
    "            rand_A_row = np.random.choice(m, p=A_row_probs)\n",
    "            rand_A_elem = np.random.choice(m, p=A_element_probs[rand_A_row])\n",
    "            v_approx # approximate right singular vector\n",
    "            for s in range(r):\n",
    "                \n",
    "            X = np.square(A_F) / rand_A_elem * \n",
    "            "
   ]
  },
  {
   "cell_type": "code",
   "execution_count": null,
   "metadata": {
    "collapsed": true
   },
   "outputs": [],
   "source": []
  }
 ],
 "metadata": {
  "kernelspec": {
   "display_name": "Python 3",
   "language": "python",
   "name": "python3"
  },
  "language_info": {
   "codemirror_mode": {
    "name": "ipython",
    "version": 3
   },
   "file_extension": ".py",
   "mimetype": "text/x-python",
   "name": "python",
   "nbconvert_exporter": "python",
   "pygments_lexer": "ipython3",
   "version": "3.6.1"
  }
 },
 "nbformat": 4,
 "nbformat_minor": 2
}
