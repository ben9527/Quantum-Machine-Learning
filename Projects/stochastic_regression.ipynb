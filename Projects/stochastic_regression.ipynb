{
 "cells": [
  {
   "cell_type": "code",
   "execution_count": 1,
   "metadata": {
    "collapsed": true
   },
   "outputs": [],
   "source": [
    "import numpy as np"
   ]
  },
  {
   "cell_type": "code",
   "execution_count": 8,
   "metadata": {},
   "outputs": [],
   "source": [
    "# maximum probability of failure\n",
    "eta = 0.1\n",
    "# multiplicative accuracy factor\n",
    "eps = 0.1 \n",
    "\n",
    "m = 10000\n",
    "n = 10000\n",
    "k = 10\n",
    "cond_n = 0.9 # minimum condition number\n",
    "\n",
    "# unif dist over [0, 0.01) \n",
    "K_1 = np.random.rand(m, k)\n",
    "u_1, d_1, v_1 = np.linalg.svd(K_1)\n",
    "K_2 = np.random.rand(k, n)\n",
    "u_2, d_2, v_2 = np.linalg.svd(K_2)\n",
    "\n"
   ]
  },
  {
   "cell_type": "code",
   "execution_count": 9,
   "metadata": {},
   "outputs": [
    {
     "name": "stdout",
     "output_type": "stream",
     "text": [
      "Singular values of A: [0.99700453 0.98144843 0.97058483 0.97052847 0.96410724 0.95450479\n",
      " 0.95321429 0.93735611 0.91036404 0.90333346]\n"
     ]
    }
   ],
   "source": [
    "# Resample singular values so that condition number is well-behaved\n",
    "d_prime = (np.random.rand(k) * (1 - cond_n)) + cond_n \n",
    "kappa = 1 / min(d_prime)\n",
    "d_prime = -np.sort(-d_prime)\n",
    "# Can verify that operator norm is lt 1\n",
    "print(\"Singular values of A:\", d_prime) \n",
    "\n",
    "# Reconstruct A using updated singular values\n",
    "d_prime = np.pad(d_prime, (0, min(m, n) - k), mode='constant')\n",
    "A = u_1 @ np.diag(d_prime) @ v_2"
   ]
  },
  {
   "cell_type": "code",
   "execution_count": 10,
   "metadata": {},
   "outputs": [
    {
     "name": "stdout",
     "output_type": "stream",
     "text": [
      "Frobenius Norm of A: 3.0189119905172275\n"
     ]
    }
   ],
   "source": [
    "A_F = np.linalg.norm(A, ord='fro')\n",
    "print(\"Frobenius Norm of A:\", A_F)"
   ]
  },
  {
   "cell_type": "code",
   "execution_count": null,
   "metadata": {
    "collapsed": true
   },
   "outputs": [],
   "source": [
    "# True solution\n",
    "A_pinv = np.linalg.pinv(A) \n",
    "print(\"Operator norm of pinv of A:\", kappa)"
   ]
  },
  {
   "cell_type": "code",
   "execution_count": 11,
   "metadata": {},
   "outputs": [
    {
     "name": "stdout",
     "output_type": "stream",
     "text": [
      "13.592367006650065 (1.5017844742483326, 100, 9.113829606488688) 0.010000000000000002\n",
      "(r, c): (1905037652.9350348, 27438153480.383553)\n"
     ]
    }
   ],
   "source": [
    "r = (np.power(2, 10) * np.log(8 * n / eta)  * np.power(kappa, 4) * np.square(k) * np.square(A_F)) / np.square(eps)\n",
    "c = (np.power(2, 6) * np.power(3, 4) * np.log(8 * r / eta)  * np.power(kappa, 8) * np.square(k) * np.square(A_F)) / np.square(eps)\n",
    "\n",
    "print(np.log(8 * n / eta)  , (np.power(kappa, 4) , np.square(k) , np.square(A_F)) , np.square(eps))\n",
    "print(\"(r, c):\", (r, c))"
   ]
  },
  {
   "cell_type": "code",
   "execution_count": null,
   "metadata": {
    "collapsed": true
   },
   "outputs": [],
   "source": []
  }
 ],
 "metadata": {
  "kernelspec": {
   "display_name": "Python 3",
   "language": "python",
   "name": "python3"
  },
  "language_info": {
   "codemirror_mode": {
    "name": "ipython",
    "version": 3
   },
   "file_extension": ".py",
   "mimetype": "text/x-python",
   "name": "python",
   "nbconvert_exporter": "python",
   "pygments_lexer": "ipython3",
   "version": "3.6.1"
  }
 },
 "nbformat": 4,
 "nbformat_minor": 2
}
