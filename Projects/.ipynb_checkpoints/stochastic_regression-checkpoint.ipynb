{
 "cells": [
  {
   "cell_type": "code",
   "execution_count": 2,
   "metadata": {
    "collapsed": true
   },
   "outputs": [],
   "source": [
    "import numpy as np"
   ]
  },
  {
   "cell_type": "code",
   "execution_count": 3,
   "metadata": {},
   "outputs": [
    {
     "data": {
      "text/plain": [
       "array([[0.8020817 , 0.40024071, 0.06333586, ..., 0.27757442, 0.38461225,\n",
       "        0.39860681],\n",
       "       [0.39856879, 0.00105401, 0.55027446, ..., 0.44017016, 0.77975885,\n",
       "        0.84138482],\n",
       "       [0.87933018, 0.65604036, 0.33384325, ..., 0.23347102, 0.91337342,\n",
       "        0.83467052],\n",
       "       ...,\n",
       "       [0.66566144, 0.89097435, 0.60108585, ..., 0.72325952, 0.96660735,\n",
       "        0.78085833],\n",
       "       [0.5102658 , 0.72769645, 0.64008485, ..., 0.14023472, 0.14945015,\n",
       "        0.93482795],\n",
       "       [0.77089252, 0.72255668, 0.84022646, ..., 0.22209201, 0.73264797,\n",
       "        0.99837169]])"
      ]
     },
     "execution_count": 3,
     "metadata": {},
     "output_type": "execute_result"
    }
   ],
   "source": [
    "m = 10000\n",
    "n = 10000\n",
    "k = 100\n",
    "\n",
    "np.random.rand(k, k) # distributed over [0, 1)"
   ]
  },
  {
   "cell_type": "code",
   "execution_count": null,
   "metadata": {
    "collapsed": true
   },
   "outputs": [],
   "source": []
  },
  {
   "cell_type": "code",
   "execution_count": null,
   "metadata": {
    "collapsed": true
   },
   "outputs": [],
   "source": []
  }
 ],
 "metadata": {
  "kernelspec": {
   "display_name": "Python 3",
   "language": "python",
   "name": "python3"
  },
  "language_info": {
   "codemirror_mode": {
    "name": "ipython",
    "version": 3
   },
   "file_extension": ".py",
   "mimetype": "text/x-python",
   "name": "python",
   "nbconvert_exporter": "python",
   "pygments_lexer": "ipython3",
   "version": "3.6.1"
  }
 },
 "nbformat": 4,
 "nbformat_minor": 2
}
