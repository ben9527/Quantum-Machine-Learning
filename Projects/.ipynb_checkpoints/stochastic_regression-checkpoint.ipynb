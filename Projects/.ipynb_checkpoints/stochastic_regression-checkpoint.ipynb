{
 "cells": [
  {
   "cell_type": "code",
   "execution_count": 3,
   "metadata": {
    "collapsed": true
   },
   "outputs": [],
   "source": [
    "import numpy as np"
   ]
  },
  {
   "cell_type": "code",
   "execution_count": 28,
   "metadata": {
    "collapsed": true
   },
   "outputs": [],
   "source": [
    "# maximum probability of failure\n",
    "eta = 0.1\n",
    "# multiplicative accuracy factor\n",
    "eps = 0.1 \n",
    "\n",
    "m = 10000\n",
    "n = 10000\n",
    "k = 10\n",
    "cond_n = 0.9 # minimum condition number\n",
    "\n",
    "# unif dist over [0, 0.01) \n",
    "K_1 = np.random.rand(m, k)\n",
    "u_1, d_1, v_1 = np.linalg.svd(K_1)\n",
    "K_2 = np.random.rand(k, n)\n",
    "u_2, d_2, v_2 = np.linalg.svd(K_2)\n",
    "\n"
   ]
  },
  {
   "cell_type": "code",
   "execution_count": 29,
   "metadata": {},
   "outputs": [
    {
     "name": "stdout",
     "output_type": "stream",
     "text": [
      "Singular values of A: [0.99145382 0.97437031 0.97041397 0.96955747 0.94550022 0.93790374\n",
      " 0.9352957  0.91867713 0.90916624 0.90357512]\n"
     ]
    }
   ],
   "source": [
    "# Resample singular values so that condition number is well-behaved\n",
    "d_prime = (np.random.rand(k) * (1 - cond_n)) + cond_n \n",
    "kappa = 1 / min(d_prime)\n",
    "d_prime = -np.sort(-d_prime)\n",
    "# Can verify that operator norm is lt 1\n",
    "print(\"Singular values of A:\", d_prime) \n",
    "\n",
    "# Reconstruct A using updated singular values\n",
    "d_prime = np.pad(d_prime, (0, min(m, n) - k), mode='constant')\n",
    "A = u_1 @ np.diag(d_prime) @ v_2"
   ]
  },
  {
   "cell_type": "code",
   "execution_count": 30,
   "metadata": {},
   "outputs": [
    {
     "name": "stdout",
     "output_type": "stream",
     "text": [
      "Frobenius Norm of A: 2.991577206233858\n",
      "Sum of row probabilities:  1.0000000000000004\n"
     ]
    }
   ],
   "source": [
    "A_F = np.linalg.norm(A, ord='fro')\n",
    "print(\"Frobenius Norm of A:\", A_F)\n",
    "\n",
    "A_row_norms = np.square(np.linalg.norm(A, axis=1))\n",
    "A_row_probs = A_row_norms / np.square(A_F)\n",
    "print(\"Sum of row probabilities: \", sum(A_row_probs))"
   ]
  },
  {
   "cell_type": "code",
   "execution_count": 31,
   "metadata": {},
   "outputs": [],
   "source": [
    "A_element_probs = {}\n",
    "\n",
    "for i in range(m):\n",
    "    A_i = A[i, :]\n",
    "    A_element_norms = np.square(A_i)\n",
    "    A_element_probs[i] = A_element_norms / A_row_norms[i]"
   ]
  },
  {
   "cell_type": "code",
   "execution_count": null,
   "metadata": {
    "collapsed": true
   },
   "outputs": [],
   "source": [
    "# True solution\n",
    "A_pinv = np.linalg.pinv(A) \n",
    "print(\"Operator norm of pinv of A:\", kappa)"
   ]
  },
  {
   "cell_type": "code",
   "execution_count": 32,
   "metadata": {},
   "outputs": [
    {
     "name": "stdout",
     "output_type": "stream",
     "text": [
      "(r, c): (100, 100)\n"
     ]
    }
   ],
   "source": [
    "#r = (np.power(2, 10) * np.log(8 * n / eta)  * np.power(kappa, 4) * np.square(k) * np.square(A_F)) / np.square(eps)\n",
    "#c = (np.power(2, 6) * np.power(3, 4) * np.log(8 * r / eta)  * np.power(kappa, 8) * np.square(k) * np.square(A_F)) / np.square(eps)\n",
    "#print(np.log(8 * n / eta)  , (np.power(kappa, 4) , np.square(k) , np.square(A_F)) , np.square(eps))\n",
    "r = c = 100\n",
    "print(\"(r, c):\", (r, c))"
   ]
  },
  {
   "cell_type": "code",
   "execution_count": 36,
   "metadata": {},
   "outputs": [
    {
     "name": "stdout",
     "output_type": "stream",
     "text": [
      "[705, 5680, 3753, 4911, 8819, 5994, 5153, 3305, 6061, 2563, 6840, 561, 5683, 1232, 8315, 7972, 7569, 789, 8456, 2154, 5959, 9119, 6916, 7055, 2344, 9922, 946, 9047, 6254, 144, 228, 6464, 5579, 3390, 5484, 4001, 4077, 6420, 8504, 4803, 7322, 5228, 7143, 7475, 6030, 6071, 7422, 308, 5248, 9966, 234, 7351, 7318, 4054, 9138, 7216, 7705, 68, 8936, 5525, 394, 5863, 9583, 2818, 5406, 4682, 9579, 7643, 283, 1186, 3131, 8780, 4704, 3066, 228, 3726, 5006, 5493, 710, 1293, 9052, 4419, 2093, 8360, 9334, 3329, 5308, 1928, 5482, 6424, 1794, 9199, 3489, 4196, 9758, 5581, 398, 8995, 7182, 1824]\n",
      "[2424, 3632, 4050, 266, 8855, 7042, 5238, 1901, 9754, 3671, 8805, 9659, 2987, 7728, 6809, 2002, 9339, 728, 7008, 7808, 114, 1980, 2803, 879, 345, 3359, 5096, 7946, 9806, 141, 1258, 4936, 6862, 5410, 7457, 3285, 354, 8570, 5853, 4251, 8197, 1783, 7245, 961, 3821, 4286, 7544, 71, 4940, 4810, 2246, 6892, 3933, 9852, 1428, 6032, 5749, 6637, 6478, 4699, 9232, 9406, 726, 5016, 6793, 3926, 1682, 3821, 4778, 3133, 1440, 9749, 582, 2247, 7478, 6718, 9885, 3252, 7547, 115, 2601, 1850, 9235, 1337, 945, 9495, 298, 7508, 3282, 3833, 7623, 2123, 8839, 230, 1566, 6866, 1543, 3140, 8654, 3962]\n"
     ]
    }
   ],
   "source": [
    "# sample rows\n",
    "\n",
    "R = []\n",
    "\n",
    "for ind in range(r):\n",
    "    R.append(\n",
    "        np.random.choice(m, p=A_row_probs)\n",
    "    )\n",
    "\n",
    "C = []\n",
    "\n",
    "for ind in range(c):\n",
    "    rand_row = np.random.randint(0, m - 1) # uniform\n",
    "    C.append(\n",
    "        np.random.choice(m, p=A_element_probs[rand_row])\n",
    "    )\n",
    "\n",
    "#print(R)\n",
    "#print(C)"
   ]
  },
  {
   "cell_type": "code",
   "execution_count": 35,
   "metadata": {},
   "outputs": [
    {
     "name": "stdout",
     "output_type": "stream",
     "text": [
      "[6245, 5020, 6553, 4466, 4242, 4316, 7373, 9151, 8425, 5648, 4054, 2127, 5181, 6376, 7593, 838, 3285, 8997, 2642, 6939, 9233, 661, 4381, 302, 2185, 9912, 3021, 5169, 3108, 2633, 8975, 8301, 4116, 9727, 9132, 7006, 7074, 4845, 9538, 2428, 5114, 5546, 3678, 9701, 3001, 5864, 8830, 8022, 4509, 8733, 1499, 5809, 2462, 4385, 493, 6006, 6819, 7633, 690, 9393, 3179, 8773, 6458, 3969, 8938, 7346, 8467, 8113, 256, 4507, 9299, 3925, 2792, 2672, 494, 6100, 2150, 2458, 4209, 9839, 6783, 9734, 5155, 8452, 4180, 4279, 9281, 2559, 1932, 5146, 5779, 9990, 8636, 59, 1315, 5670, 9172, 2848, 7699, 6822]\n",
      "[2300, 7734, 5838, 4656, 7256, 1073, 5552, 9116, 1018, 3102, 3654, 6356, 8242, 7276, 7616, 8414, 1671, 8083, 9513, 1578, 5759, 6712, 5722, 7326, 7638, 9867, 7449, 5533, 6259, 3265, 605, 8088, 4419, 1259, 5691, 9585, 6014, 7147, 5484, 9272, 2869, 1907, 6009, 7760, 7626, 7619, 7750, 160, 4180, 5390, 8859, 8501, 3457, 2295, 7424, 8909, 1502, 3423, 460, 6818, 3899, 6142, 3158, 1367, 7483, 6724, 5241, 4334, 806, 7940, 5633, 4381, 4949, 3522, 5156, 2833, 8833, 9538, 8841, 7377, 3657, 5463, 9315, 8800, 5893, 7530, 4289, 3998, 3447, 5167, 8026, 2234, 3830, 3196, 5681, 9499, 2956, 2786, 1145, 6845]\n"
     ]
    }
   ],
   "source": []
  },
  {
   "cell_type": "code",
   "execution_count": null,
   "metadata": {
    "collapsed": true
   },
   "outputs": [],
   "source": []
  }
 ],
 "metadata": {
  "kernelspec": {
   "display_name": "Python 3",
   "language": "python",
   "name": "python3"
  },
  "language_info": {
   "codemirror_mode": {
    "name": "ipython",
    "version": 3
   },
   "file_extension": ".py",
   "mimetype": "text/x-python",
   "name": "python",
   "nbconvert_exporter": "python",
   "pygments_lexer": "ipython3",
   "version": "3.6.1"
  }
 },
 "nbformat": 4,
 "nbformat_minor": 2
}
